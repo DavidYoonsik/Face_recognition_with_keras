{
 "cells": [
  {
   "cell_type": "code",
   "execution_count": 1,
   "metadata": {},
   "outputs": [],
   "source": [
    "from __future__ import division, print_function, unicode_literals"
   ]
  },
  {
   "cell_type": "code",
   "execution_count": 2,
   "metadata": {},
   "outputs": [],
   "source": [
    "import numpy as np\n",
    "import os"
   ]
  },
  {
   "cell_type": "code",
   "execution_count": 3,
   "metadata": {},
   "outputs": [],
   "source": [
    "%matplotlib inline\n",
    "import matplotlib as mpl\n",
    "import matplotlib.pyplot as plt"
   ]
  },
  {
   "cell_type": "code",
   "execution_count": 4,
   "metadata": {},
   "outputs": [],
   "source": [
    "np.random.seed(42)"
   ]
  },
  {
   "cell_type": "code",
   "execution_count": 5,
   "metadata": {},
   "outputs": [],
   "source": [
    "from sklearn.datasets import fetch_mldata"
   ]
  },
  {
   "cell_type": "code",
   "execution_count": 6,
   "metadata": {},
   "outputs": [],
   "source": [
    "from sklearn import datasets"
   ]
  },
  {
   "cell_type": "code",
   "execution_count": 7,
   "metadata": {},
   "outputs": [
    {
     "data": {
      "text/plain": [
       "'/root/scikit_learn_data'"
      ]
     },
     "execution_count": 7,
     "metadata": {},
     "output_type": "execute_result"
    }
   ],
   "source": [
    "datasets.get_data_home()"
   ]
  },
  {
   "cell_type": "code",
   "execution_count": 8,
   "metadata": {},
   "outputs": [
    {
     "name": "stdout",
     "output_type": "stream",
     "text": [
      "--2019-01-30 16:58:54--  https://github.com/amplab/datascience-sp14/raw/master/lab7/mldata/mnist-original.mat\n",
      "Resolving github.com (github.com)... 192.30.255.113, 192.30.255.112\n",
      "Connecting to github.com (github.com)|192.30.255.113|:443... connected.\n",
      "HTTP request sent, awaiting response... 302 Found\n",
      "Location: https://raw.githubusercontent.com/amplab/datascience-sp14/master/lab7/mldata/mnist-original.mat [following]\n",
      "--2019-01-30 16:58:55--  https://raw.githubusercontent.com/amplab/datascience-sp14/master/lab7/mldata/mnist-original.mat\n",
      "Resolving raw.githubusercontent.com (raw.githubusercontent.com)... 151.101.228.133\n",
      "Connecting to raw.githubusercontent.com (raw.githubusercontent.com)|151.101.228.133|:443... connected.\n",
      "HTTP request sent, awaiting response... 200 OK\n",
      "Length: 55440440 (53M) [application/octet-stream]\n",
      "Saving to: ‘/root/scikit_learn_data/mldata/mnist-original.mat.2’\n",
      "\n",
      "100%[======================================>] 55,440,440  1.45MB/s   in 35s    \n",
      "\n",
      "2019-01-30 16:59:30 (1.53 MB/s) - ‘/root/scikit_learn_data/mldata/mnist-original.mat.2’ saved [55440440/55440440]\n",
      "\n"
     ]
    }
   ],
   "source": [
    "!wget https://github.com/amplab/datascience-sp14/raw/master/lab7/mldata/mnist-original.mat -P /root/scikit_learn_data/mldata/"
   ]
  },
  {
   "cell_type": "code",
   "execution_count": 9,
   "metadata": {
    "scrolled": true
   },
   "outputs": [],
   "source": [
    "mnist = fetch_mldata('MNIST original')"
   ]
  },
  {
   "cell_type": "code",
   "execution_count": 10,
   "metadata": {
    "scrolled": false
   },
   "outputs": [
    {
     "data": {
      "text/plain": [
       "array([[0, 0, 0, ..., 0, 0, 0],\n",
       "       [0, 0, 0, ..., 0, 0, 0],\n",
       "       [0, 0, 0, ..., 0, 0, 0],\n",
       "       ...,\n",
       "       [0, 0, 0, ..., 0, 0, 0],\n",
       "       [0, 0, 0, ..., 0, 0, 0],\n",
       "       [0, 0, 0, ..., 0, 0, 0]], dtype=uint8)"
      ]
     },
     "execution_count": 10,
     "metadata": {},
     "output_type": "execute_result"
    }
   ],
   "source": [
    "mnist[\"data\"]"
   ]
  },
  {
   "cell_type": "code",
   "execution_count": 11,
   "metadata": {},
   "outputs": [
    {
     "data": {
      "text/plain": [
       "array([0., 0., 0., ..., 9., 9., 9.])"
      ]
     },
     "execution_count": 11,
     "metadata": {},
     "output_type": "execute_result"
    }
   ],
   "source": [
    "mnist[\"target\"]"
   ]
  },
  {
   "cell_type": "code",
   "execution_count": 12,
   "metadata": {},
   "outputs": [
    {
     "data": {
      "text/plain": [
       "(70000, 784)"
      ]
     },
     "execution_count": 12,
     "metadata": {},
     "output_type": "execute_result"
    }
   ],
   "source": [
    "mnist.data.shape"
   ]
  },
  {
   "cell_type": "code",
   "execution_count": 13,
   "metadata": {},
   "outputs": [],
   "source": [
    "X, y = mnist[\"data\"], mnist[\"target\"]"
   ]
  },
  {
   "cell_type": "code",
   "execution_count": 14,
   "metadata": {},
   "outputs": [
    {
     "data": {
      "image/png": "[encoded data removed]",
      "text/plain": [
       "<matplotlib.figure.Figure at 0x7f9881599c88>"
      ]
     },
     "metadata": {},
     "output_type": "display_data"
    }
   ],
   "source": [
    "some_digit = X[36000]\n",
    "some_digit_image = some_digit.reshape(28, 28)\n",
    "plt.imshow(some_digit_image, cmap = mpl.cm.binary,\n",
    "           interpolation=\"nearest\")\n",
    "plt.axis(\"off\")\n",
    "plt.show()"
   ]
  },
  {
   "cell_type": "code",
   "execution_count": 15,
   "metadata": {},
   "outputs": [],
   "source": [
    "def plot_digit(data):\n",
    "    image = data.reshape(28, 28)\n",
    "    plt.imshow(image, cmap = mpl.cm.binary,\n",
    "               interpolation=\"nearest\")\n",
    "    plt.axis(\"off\")"
   ]
  },
  {
   "cell_type": "code",
   "execution_count": 16,
   "metadata": {},
   "outputs": [],
   "source": [
    "# EXTRA\n",
    "def plot_digits(instances, images_per_row=10, **options):\n",
    "    size = 28\n",
    "    images_per_row = min(len(instances), images_per_row)\n",
    "    images = [instance.reshape(size,size) for instance in instances]\n",
    "    n_rows = (len(instances) - 1) // images_per_row + 1\n",
    "    row_images = []\n",
    "    n_empty = n_rows * images_per_row - len(instances)\n",
    "    images.append(np.zeros((size, size * n_empty)))\n",
    "    for row in range(n_rows):\n",
    "        rimages = images[row * images_per_row : (row + 1) * images_per_row]\n",
    "        row_images.append(np.concatenate(rimages, axis=1))\n",
    "    image = np.concatenate(row_images, axis=0)\n",
    "    plt.imshow(image, cmap = mpl.cm.binary, **options)\n",
    "    plt.axis(\"off\")"
   ]
  },
  {
   "cell_type": "code",
   "execution_count": 17,
   "metadata": {},
   "outputs": [
    {
     "data": {
      "image/png": "[encoded data removed]",
      "text/plain": [
       "<matplotlib.figure.Figure at 0x7f98815996d8>"
      ]
     },
     "metadata": {},
     "output_type": "display_data"
    }
   ],
   "source": [
    "plt.figure(figsize=(9,9))\n",
    "example_images = np.r_[X[:12000:600], X[13000:30600:600], X[30600:60000:590]]\n",
    "plot_digits(example_images, images_per_row=10)\n",
    "plt.show()"
   ]
  },
  {
   "cell_type": "code",
   "execution_count": 18,
   "metadata": {
    "scrolled": true
   },
   "outputs": [
    {
     "data": {
      "text/plain": [
       "5.0"
      ]
     },
     "execution_count": 18,
     "metadata": {},
     "output_type": "execute_result"
    }
   ],
   "source": [
    "y[36000]"
   ]
  },
  {
   "cell_type": "code",
   "execution_count": 19,
   "metadata": {},
   "outputs": [],
   "source": [
    "X_train, X_test, y_train, y_test = X[:60000], X[60000:], y[:60000], y[60000:]"
   ]
  },
  {
   "cell_type": "markdown",
   "metadata": {},
   "source": [
    "#### 이진분류"
   ]
  },
  {
   "cell_type": "code",
   "execution_count": 20,
   "metadata": {},
   "outputs": [],
   "source": [
    "shuffle_index = np.random.permutation(60000)\n",
    "X_train, y_train = X_train[shuffle_index], y_train[shuffle_index]"
   ]
  },
  {
   "cell_type": "code",
   "execution_count": 21,
   "metadata": {},
   "outputs": [],
   "source": [
    "y_train_5 = (y_train == 5)"
   ]
  },
  {
   "cell_type": "code",
   "execution_count": 22,
   "metadata": {},
   "outputs": [],
   "source": [
    "y_test_5 = (y_test == 5)"
   ]
  },
  {
   "cell_type": "markdown",
   "metadata": {},
   "source": [
    "#### 확률적 경사 하강법(SGD: Stochastic Gradient Descent)"
   ]
  },
  {
   "cell_type": "code",
   "execution_count": 23,
   "metadata": {},
   "outputs": [],
   "source": [
    "from sklearn.linear_model import SGDClassifier\n",
    "from sklearn.preprocessing import StandardScaler"
   ]
  },
  {
   "cell_type": "code",
   "execution_count": 24,
   "metadata": {},
   "outputs": [],
   "source": [
    "sgd_clf = SGDClassifier(max_iter=4, tol=-np.infty, random_state=42)"
   ]
  },
  {
   "cell_type": "code",
   "execution_count": 25,
   "metadata": {},
   "outputs": [],
   "source": [
    "ss = StandardScaler()"
   ]
  },
  {
   "cell_type": "code",
   "execution_count": 26,
   "metadata": {},
   "outputs": [
    {
     "name": "stderr",
     "output_type": "stream",
     "text": [
      "/usr/lib64/python3.5/site-packages/sklearn/utils/validation.py:475: DataConversionWarning: Data with input dtype uint8 was converted to float64 by StandardScaler.\n",
      "  warnings.warn(msg, DataConversionWarning)\n"
     ]
    }
   ],
   "source": [
    "X_train_scaled = ss.fit_transform(X_train)"
   ]
  },
  {
   "cell_type": "code",
   "execution_count": 27,
   "metadata": {},
   "outputs": [
    {
     "name": "stderr",
     "output_type": "stream",
     "text": [
      "/usr/lib64/python3.5/site-packages/sklearn/utils/validation.py:475: DataConversionWarning: Data with input dtype uint8 was converted to float64 by StandardScaler.\n",
      "  warnings.warn(msg, DataConversionWarning)\n"
     ]
    }
   ],
   "source": [
    "X_test_scaled = ss.transform(X_test)"
   ]
  },
  {
   "cell_type": "code",
   "execution_count": 28,
   "metadata": {},
   "outputs": [
    {
     "data": {
      "text/plain": [
       "SGDClassifier(alpha=0.0001, average=False, class_weight=None, epsilon=0.1,\n",
       "       eta0=0.0, fit_intercept=True, l1_ratio=0.15,\n",
       "       learning_rate='optimal', loss='hinge', max_iter=4, n_iter=None,\n",
       "       n_jobs=1, penalty='l2', power_t=0.5, random_state=42, shuffle=True,\n",
       "       tol=-inf, verbose=0, warm_start=False)"
      ]
     },
     "execution_count": 28,
     "metadata": {},
     "output_type": "execute_result"
    }
   ],
   "source": [
    "sgd_clf.fit(X_train_scaled, y_train_5)\n",
    "# This will output True, False"
   ]
  },
  {
   "cell_type": "code",
   "execution_count": 29,
   "metadata": {},
   "outputs": [
    {
     "data": {
      "text/plain": [
       "(784,)"
      ]
     },
     "execution_count": 29,
     "metadata": {},
     "output_type": "execute_result"
    }
   ],
   "source": [
    "X_train_scaled[0].shape"
   ]
  },
  {
   "cell_type": "code",
   "execution_count": 30,
   "metadata": {},
   "outputs": [
    {
     "data": {
      "text/plain": [
       "(784,)"
      ]
     },
     "execution_count": 30,
     "metadata": {},
     "output_type": "execute_result"
    }
   ],
   "source": [
    "some_digit.shape"
   ]
  },
  {
   "cell_type": "code",
   "execution_count": 31,
   "metadata": {},
   "outputs": [],
   "source": [
    "some_digit = ss.transform([some_digit])"
   ]
  },
  {
   "cell_type": "code",
   "execution_count": 32,
   "metadata": {},
   "outputs": [
    {
     "data": {
      "text/plain": [
       "array([False])"
      ]
     },
     "execution_count": 32,
     "metadata": {},
     "output_type": "execute_result"
    }
   ],
   "source": [
    "sgd_clf.predict(some_digit)"
   ]
  },
  {
   "cell_type": "code",
   "execution_count": 33,
   "metadata": {
    "scrolled": true
   },
   "outputs": [
    {
     "data": {
      "text/plain": [
       "array([[ 0.00000000e+00,  0.00000000e+00,  0.00000000e+00,\n",
       "         0.00000000e+00,  0.00000000e+00,  0.00000000e+00,\n",
       "         0.00000000e+00,  0.00000000e+00,  0.00000000e+00,\n",
       "         0.00000000e+00,  0.00000000e+00,  0.00000000e+00,\n",
       "        -4.41807799e-03, -5.75481961e-03, -4.08251693e-03,\n",
       "        -4.08251693e-03,  0.00000000e+00,  0.00000000e+00,\n",
       "         0.00000000e+00,  0.00000000e+00,  0.00000000e+00,\n",
       "         0.00000000e+00,  0.00000000e+00,  0.00000000e+00,\n",
       "         0.00000000e+00,  0.00000000e+00,  0.00000000e+00,\n",
       "         0.00000000e+00,  0.00000000e+00,  0.00000000e+00,\n",
       "         0.00000000e+00,  0.00000000e+00, -4.08251693e-03,\n",
       "        -4.70968827e-03, -8.79934640e-03, -1.15905591e-02,\n",
       "        -1.47589798e-02, -1.92848546e-02, -2.46717975e-02,\n",
       "        -2.90710271e-02, -3.05926583e-02, -3.11640127e-02,\n",
       "        -3.19628719e-02, -3.02025355e-02, -3.13102175e-02,\n",
       "        -2.83833960e-02, -2.31191906e-02, -1.91666260e-02,\n",
       "        -1.67723008e-02, -1.09963601e-02, -8.32486080e-03,\n",
       "        -4.38069356e-03,  0.00000000e+00,  0.00000000e+00,\n",
       "         0.00000000e+00,  0.00000000e+00,  0.00000000e+00,\n",
       "         0.00000000e+00, -4.08251693e-03, -5.39534598e-03,\n",
       "        -8.52241235e-03, -1.19850363e-02, -1.76534777e-02,\n",
       "        -2.77108989e-02, -3.70200943e-02, -5.21512802e-02,\n",
       "        -6.70362007e-02, -8.30170484e-02, -9.93792978e-02,\n",
       "        -1.15184128e-01, -1.29133256e-01, -1.38394677e-01,\n",
       "        -1.38883631e-01, -1.31843438e-01, -1.20429522e-01,\n",
       "        -1.01890795e-01, -7.86049044e-02, -5.69956130e-02,\n",
       "        -3.96576839e-02, -2.37283861e-02, -1.40883463e-02,\n",
       "        -7.83084068e-03,  0.00000000e+00,  0.00000000e+00,\n",
       "         0.00000000e+00,  0.00000000e+00, -5.36837753e-03,\n",
       "        -8.87060589e-03, -1.40708170e-02, -2.21468098e-02,\n",
       "        -3.51801368e-02, -5.50236802e-02, -7.90961321e-02,\n",
       "        -1.07649012e-01, -1.37169936e-01, -1.67105761e-01,\n",
       "        -1.96008755e-01, -2.24491114e-01, -2.48655991e-01,\n",
       "        -2.62117971e-01, -2.62596902e-01, -2.47855903e-01,\n",
       "        -2.21947003e-01, -1.87211405e-01, -1.47640132e-01,\n",
       "        -1.08164364e-01, -7.68121117e-02, -4.70752996e-02,\n",
       "        -3.02019676e-02, -1.52412436e-02, -5.28371965e-03,\n",
       "         0.00000000e+00,  0.00000000e+00, -4.08251693e-03,\n",
       "        -7.76342302e-03, -1.48932548e-02, -2.39627505e-02,\n",
       "        -5.03408980e-02, -7.87674703e-02, -1.16181540e-01,\n",
       "        -1.61247562e-01, -2.11961635e-01, -2.66898731e-01,\n",
       "        -3.25678010e-01, -3.90241548e-01, -4.52076376e-01,\n",
       "        -4.99397984e-01, -5.23428324e-01, -5.17618894e-01,\n",
       "        -4.80902419e-01, -4.23079694e-01, -3.56740395e-01,\n",
       "        -2.83683648e-01, -2.16836661e-01, -1.58524380e-01,\n",
       "        -1.08784581e-01, -7.09225309e-02, -3.89534819e-02,\n",
       "        -1.42523852e-02, -5.77049806e-03,  0.00000000e+00,\n",
       "         0.00000000e+00, -1.19017406e-02, -2.20501560e-02,\n",
       "        -5.18380750e-02, -9.06597035e-02, -1.39667106e-01,\n",
       "        -1.97082121e-01, -2.64384728e-01, -3.40730442e-01,\n",
       "        -4.22535749e-01, -5.15408649e-01, -6.16035327e-01,\n",
       "        -7.15983297e-01, -7.94120466e-01, -8.35049253e-01,\n",
       "        -8.24185811e-01, -7.62839284e-01, -6.66559498e-01,\n",
       "         4.04461622e-01,  1.25954111e+00,  3.28861612e+00,\n",
       "         4.47585837e+00,  6.25917573e+00, -1.31080130e-01,\n",
       "        -7.48460374e-02, -3.19301291e-02, -8.20891834e-03,\n",
       "         0.00000000e+00, -5.57015293e-03, -1.56619271e-02,\n",
       "        -3.63656606e-02, -7.90243079e-02, -1.33289086e-01,\n",
       "        -1.99154411e-01, -2.75429691e-01, -3.63335946e-01,\n",
       "        -4.63080533e-01, -5.74845189e-01, -6.98803873e-01,\n",
       "        -8.28773684e-01, -9.56892048e-01, -1.05647264e+00,\n",
       "        -1.10471831e+00, -9.67778050e-01, -3.48042957e-01,\n",
       "         9.18288052e-01,  1.71424448e+00,  2.12702721e+00,\n",
       "         2.77457574e+00,  3.73412893e+00,  5.23333482e+00,\n",
       "        -1.72939702e-01, -1.04104240e-01, -4.83176220e-02,\n",
       "        -1.47080183e-02, -4.08251693e-03, -1.32310093e-02,\n",
       "        -2.62438209e-02, -5.91585908e-02, -1.13004853e-01,\n",
       "        -1.78441525e-01, -2.58004810e-01, -3.50911812e-01,\n",
       "        -4.59098224e-01, -5.84145557e-01, -7.24954207e-01,\n",
       "        -8.75639266e-01, -9.78423352e-01, -8.69505284e-01,\n",
       "        -9.39581429e-01,  1.68915920e-01,  4.86835675e-01,\n",
       "         1.13236596e+00,  1.24754998e+00,  1.46601292e+00,\n",
       "         1.80315940e+00,  2.33455255e+00,  2.89369857e+00,\n",
       "         2.45645715e+00, -1.97007025e-01, -1.21228940e-01,\n",
       "        -5.68086109e-02, -1.53906680e-02, -5.02549298e-03,\n",
       "        -1.73205192e-02, -4.30805391e-02, -8.52488969e-02,\n",
       "        -1.39458369e-01, -2.10883308e-01, -3.00017977e-01,\n",
       "        -4.07281526e-01, -5.32888480e-01, -6.80629425e-01,\n",
       "        -8.41988503e-01, -9.82438255e-01, -8.13935613e-01,\n",
       "         1.15478312e+00,  1.16886380e+00,  1.17019742e+00,\n",
       "         1.16706785e+00,  1.16966782e+00,  1.21866068e+00,\n",
       "         1.38283885e+00,  1.21113025e+00,  6.37983495e-01,\n",
       "         6.91150146e-02, -2.98196207e-01, -1.97686135e-01,\n",
       "        -1.20683815e-01, -5.39356285e-02, -1.35055434e-02,\n",
       "        -5.90571261e-03, -2.11096679e-02, -5.29890369e-02,\n",
       "        -9.30784924e-02, -1.50398734e-01, -2.26191023e-01,\n",
       "        -3.23645340e-01, -4.42131217e-01, -5.84247477e-01,\n",
       "        -7.48575593e-01, -9.00449332e-01, -9.92387707e-01,\n",
       "         5.22861426e-01,  1.34819098e+00,  1.43109771e+00,\n",
       "         1.41255122e+00,  1.13114321e+00,  1.36763474e-01,\n",
       "        -9.99486551e-01, -9.01508612e-01, -7.36681516e-01,\n",
       "        -5.67589421e-01, -4.20171899e-01, -2.90174595e-01,\n",
       "        -1.81482351e-01, -1.04939775e-01, -4.72131729e-02,\n",
       "        -1.41308656e-02, -5.77280519e-03, -2.26322771e-02,\n",
       "        -5.28031747e-02, -9.22058067e-02, -1.47451700e-01,\n",
       "        -2.27284588e-01, -3.32428316e-01, -4.62696158e-01,\n",
       "        -6.19033521e-01, -7.84282685e-01, -9.08209879e-01,\n",
       "        -4.66623187e-02,  1.38095447e+00,  1.62430492e+00,\n",
       "         1.68590721e+00,  1.59214654e+00,  1.41638042e+00,\n",
       "         2.33024086e-01, -6.18128681e-01, -8.63473259e-01,\n",
       "        -7.01324246e-01, -5.37396564e-01, -3.96771027e-01,\n",
       "        -2.71222642e-01, -1.59324464e-01, -8.12584087e-02,\n",
       "        -3.69508670e-02, -1.18733992e-02, -7.05517396e-03,\n",
       "        -2.07711768e-02, -4.72035624e-02, -8.20038362e-02,\n",
       "        -1.37457285e-01, -2.25181955e-01, -3.38492381e-01,\n",
       "        -4.82934997e-01, -6.48288219e-01, -8.09805311e-01,\n",
       "        -7.08400448e-03,  1.33371129e+00,  1.63673570e+00,\n",
       "         1.78441428e+00,  1.72093568e+00,  1.56425996e+00,\n",
       "         1.43311578e+00,  1.31461291e+00,  1.04594224e+00,\n",
       "        -8.24902899e-01, -6.55987835e-01, -4.99364187e-01,\n",
       "        -3.69573309e-01, -2.58464407e-01, -1.49695715e-01,\n",
       "        -6.11113564e-02, -2.80115688e-02, -9.12509965e-03,\n",
       "        -5.30435130e-03, -1.62383999e-02, -3.63786148e-02,\n",
       "        -6.85820105e-02, -1.27368499e-01, -2.26143360e-01,\n",
       "        -3.52202906e-01, -5.07583513e-01, -6.79449640e-01,\n",
       "        -8.28251048e-01,  1.15406465e+00,  1.48739930e+00,\n",
       "         1.65693276e+00,  1.51995960e+00,  1.24569638e+00,\n",
       "         1.09425566e+00,  1.06482244e+00,  1.20982623e+00,\n",
       "         1.29958982e+00, -7.94476763e-01, -6.16749363e-01,\n",
       "        -4.70072884e-01, -3.55124414e-01, -2.55407545e-01,\n",
       "        -1.53824513e-01, -5.24542821e-02, -2.15058651e-02,\n",
       "        -9.92198161e-03, -4.08251693e-03, -1.09343854e-02,\n",
       "        -2.55447979e-02, -5.70730810e-02, -1.24662020e-01,\n",
       "        -2.38498173e-01, -3.73258897e-01, -5.33136068e-01,\n",
       "        -7.02094140e-01, -8.37450050e-01,  4.46099145e-01,\n",
       "         1.48544972e+00,  6.59439804e-01, -4.32010780e-01,\n",
       "        -9.78550563e-01, -1.11080343e+00, -9.53247372e-01,\n",
       "         6.99077967e-01,  1.28301290e+00, -7.75195395e-01,\n",
       "        -5.94446605e-01, -4.60910238e-01, -3.55500546e-01,\n",
       "        -2.63549180e-01, -1.64503687e-01, -5.95130325e-02,\n",
       "        -2.33686679e-02, -7.40432376e-03, -4.08251693e-03,\n",
       "        -7.98834543e-03, -1.82964530e-02, -5.13394345e-02,\n",
       "        -1.29346397e-01, -2.57521393e-01, -3.95011330e-01,\n",
       "        -5.50421723e-01, -7.07323088e-01, -8.26049817e-01,\n",
       "        -8.67853151e-01, -8.60743722e-01, -9.04035680e-01,\n",
       "        -1.03470353e+00, -1.14543618e+00, -1.27420789e+00,\n",
       "        -1.01148397e+00,  7.02220946e-01,  1.31450349e+00,\n",
       "        -7.63011316e-01, -5.97027040e-01, -4.72019989e-01,\n",
       "        -3.68370412e-01, -2.73325316e-01, -1.73386634e-01,\n",
       "        -6.89427199e-02, -2.46446573e-02, -6.98490193e-03,\n",
       "        -4.77028006e-03, -4.18942802e-03, -1.86482564e-02,\n",
       "        -5.32721237e-02, -1.40420517e-01,  2.80714601e-01,\n",
       "        -1.59469524e-01, -5.54003398e-01, -6.92005443e-01,\n",
       "        -7.92583140e-01, -8.41940836e-01, -8.69766983e-01,\n",
       "        -9.58664347e-01, -1.09410266e+00, -1.20489455e+00,\n",
       "        -1.27242541e+00, -5.28077640e-01,  7.42040382e-01,\n",
       "         1.37157981e+00,  5.95935926e-03, -6.09787183e-01,\n",
       "        -4.86753939e-01, -3.80896777e-01, -2.78298890e-01,\n",
       "        -1.75491552e-01, -7.70261425e-02, -2.96263040e-02,\n",
       "        -9.11024024e-03, -4.08251693e-03, -6.70727737e-03,\n",
       "        -2.16014323e-02, -6.07076923e-02,  4.05837578e+00,\n",
       "         3.56817714e+00,  2.28886957e+00,  1.36643034e+00,\n",
       "        -6.59100289e-01, -7.41250552e-01, -7.88379565e-01,\n",
       "        -8.33967293e-01, -9.19413398e-01, -1.02595562e+00,\n",
       "        -1.12277551e+00, -9.74328076e-01,  7.84186509e-01,\n",
       "         1.26567434e+00,  1.14852436e+00,  1.58148725e-02,\n",
       "        -6.15621643e-01, -4.93079765e-01, -3.79874281e-01,\n",
       "        -2.73517649e-01, -1.73539121e-01, -8.40501482e-02,\n",
       "        -3.41624422e-02, -8.93964748e-03,  0.00000000e+00,\n",
       "        -8.93208845e-03, -2.53977634e-02, -7.39001757e-02,\n",
       "         5.02147380e+00,  3.94978430e+00,  2.80289765e+00,\n",
       "         2.11945537e+00,  8.16676028e-01, -6.82689238e-01,\n",
       "        -7.23470137e-01, -7.65558979e-01, -8.25070425e-01,\n",
       "        -9.19390235e-01, -7.47136969e-01, -1.02326189e-01,\n",
       "         1.25838068e+00,  1.31519954e+00,  7.79242418e-01,\n",
       "        -7.40321068e-01, -6.13265794e-01, -4.85156292e-01,\n",
       "        -3.68041978e-01, -2.60781824e-01, -1.68333757e-01,\n",
       "        -8.85426370e-02, -3.59362339e-02, -1.07108129e-02,\n",
       "        -5.90596678e-03, -6.35211414e-03, -3.33202141e-02,\n",
       "        -9.13048630e-02,  4.34658830e+00,  3.71984959e+00,\n",
       "         2.72984464e+00,  1.93912235e+00, -6.05947897e-01,\n",
       "        -6.59405094e-01, -6.97848366e-01, -7.30422894e-01,\n",
       "        -7.81125667e-01, -8.71688552e-01,  6.06630543e-01,\n",
       "         1.25997446e+00,  1.27637500e+00,  1.07057640e+00,\n",
       "        -8.58724638e-01, -7.32311394e-01, -5.94910595e-01,\n",
       "        -4.63429150e-01, -3.48771144e-01, -2.45884747e-01,\n",
       "        -1.58200936e-01, -8.54379627e-02, -3.15579616e-02,\n",
       "        -9.76041412e-03, -4.08251693e-03, -1.12816627e-02,\n",
       "        -3.97571016e-02, -1.03852335e-01,  3.21431121e+00,\n",
       "         3.40460479e+00,  2.65095253e+00,  1.02912949e+00,\n",
       "        -6.31886475e-01, -6.93224391e-01, -7.38384900e-01,\n",
       "        -7.70730767e-01,  7.28038804e-01,  1.37423329e+00,\n",
       "         1.27892968e+00,  1.21745436e+00,  1.23935680e+00,\n",
       "        -2.10927990e-01, -8.46502284e-01, -7.01222754e-01,\n",
       "        -5.55385654e-01, -4.27074606e-01, -3.16810480e-01,\n",
       "        -2.20685803e-01, -1.41057264e-01, -7.81710423e-02,\n",
       "        -2.91825785e-02, -8.02578597e-03,  0.00000000e+00,\n",
       "        -1.03421049e-02, -4.32736220e-02, -1.09167014e-01,\n",
       "        -2.09032573e-01,  2.51020009e+00,  2.63607518e+00,\n",
       "         1.06028332e+00,  1.57615733e-01,  3.59909727e-02,\n",
       "         1.09632750e+00,  1.15120641e+00,  1.22540497e+00,\n",
       "         1.20658306e+00,  8.07785662e-01, -4.09633495e-02,\n",
       "        -8.20015018e-01, -8.57892430e-01, -7.87347565e-01,\n",
       "        -6.26990956e-01, -4.88062775e-01, -3.68951144e-01,\n",
       "        -2.69292226e-01, -1.87212623e-01, -1.21627434e-01,\n",
       "        -6.64938197e-02, -2.60330031e-02, -5.77331594e-03,\n",
       "        -4.08251693e-03, -1.00095035e-02, -4.04987315e-02,\n",
       "        -9.99847079e-02, -1.88201724e-01,  8.70493010e-01,\n",
       "         2.28135032e+00,  1.81343600e+00,  1.75785334e+00,\n",
       "         1.52273332e+00,  1.35882073e+00,  1.25198139e+00,\n",
       "         8.22860446e-01,  5.85605862e-01, -9.11873311e-01,\n",
       "        -1.12530505e+00, -9.94707958e-01, -8.32232744e-01,\n",
       "        -6.67125990e-01, -5.22694492e-01, -3.99065428e-01,\n",
       "        -2.96700643e-01, -2.12626224e-01, -1.48693958e-01,\n",
       "        -9.68957284e-02, -5.09310889e-02, -2.02144293e-02,\n",
       "        -4.08251693e-03, -4.08251693e-03, -6.00490574e-03,\n",
       "        -3.37063471e-02, -7.89724505e-02, -1.47741377e-01,\n",
       "        -2.43250250e-01, -6.76402577e-02, -4.35532376e-02,\n",
       "         2.35112386e-01,  6.07140823e-01,  1.11091414e+00,\n",
       "         7.97036660e-03, -8.40592267e-01, -1.11743802e+00,\n",
       "        -1.07483985e+00, -9.63072630e-01, -8.17668173e-01,\n",
       "        -6.64655910e-01, -5.23595080e-01, -4.02142028e-01,\n",
       "        -3.03069160e-01, -2.21680844e-01, -1.59365935e-01,\n",
       "        -1.10060699e-01, -7.00397650e-02, -3.71356228e-02,\n",
       "        -1.22014099e-02, -4.08251693e-03,  0.00000000e+00,\n",
       "         0.00000000e+00, -2.27387266e-02, -5.19053972e-02,\n",
       "        -9.99880242e-02, -1.68431623e-01, -2.60310720e-01,\n",
       "        -3.69837081e-01, -4.90097995e-01, -6.15370679e-01,\n",
       "        -7.38977994e-01, -8.43175905e-01, -9.01951414e-01,\n",
       "        -8.99806083e-01, -8.39748579e-01, -7.34655534e-01,\n",
       "        -6.12575711e-01, -4.92071188e-01, -3.79928167e-01,\n",
       "        -2.88817393e-01, -2.13440937e-01, -1.53667782e-01,\n",
       "        -1.09126008e-01, -7.40987562e-02, -4.33171851e-02,\n",
       "        -1.93437920e-02, -1.04024820e-02,  0.00000000e+00,\n",
       "         0.00000000e+00,  0.00000000e+00, -1.03527008e-02,\n",
       "        -2.87501024e-02, -5.75683736e-02, -9.53105368e-02,\n",
       "        -1.53609762e-01, -2.23424526e-01, -3.03577770e-01,\n",
       "        -3.88479973e-01, -4.70195832e-01, -5.33123565e-01,\n",
       "        -5.66505989e-01, -5.62783656e-01, -5.27164696e-01,\n",
       "        -4.68057397e-01, -3.95805045e-01, -3.24789446e-01,\n",
       "        -2.55705032e-01, -1.94611712e-01, -1.44574205e-01,\n",
       "        -1.01773543e-01, -7.14252227e-02, -4.77777569e-02,\n",
       "        -2.57524359e-02, -1.13794237e-02, -4.75287492e-03,\n",
       "         0.00000000e+00,  0.00000000e+00,  0.00000000e+00,\n",
       "        -6.66430111e-03, -1.09642132e-02, -2.76044516e-02,\n",
       "        -5.15536012e-02, -8.67718458e-02, -1.28392033e-01,\n",
       "        -1.75775898e-01, -2.23054438e-01, -2.66640286e-01,\n",
       "        -2.94844315e-01, -3.07505433e-01, -3.05180122e-01,\n",
       "        -2.89231779e-01, -2.63231291e-01, -2.33723589e-01,\n",
       "        -2.01027824e-01, -1.63691052e-01, -1.27665996e-01,\n",
       "        -9.39651393e-02, -6.56832591e-02, -4.59265310e-02,\n",
       "        -2.87188097e-02, -1.56930365e-02, -5.67530616e-03,\n",
       "        -4.08251693e-03,  0.00000000e+00,  0.00000000e+00,\n",
       "         0.00000000e+00,  0.00000000e+00, -4.08251693e-03,\n",
       "        -1.51213939e-02, -3.13695545e-02, -5.33302349e-02,\n",
       "        -7.92282669e-02, -1.08376650e-01, -1.33979068e-01,\n",
       "        -1.57513181e-01, -1.75105513e-01, -1.82626897e-01,\n",
       "        -1.80535341e-01, -1.69876491e-01, -1.53157314e-01,\n",
       "        -1.35433124e-01, -1.16480299e-01, -9.39512541e-02,\n",
       "        -7.25768871e-02, -5.23643597e-02, -3.63829995e-02,\n",
       "        -2.15030637e-02, -1.30192791e-02, -4.49421517e-03,\n",
       "        -4.08251693e-03,  0.00000000e+00,  0.00000000e+00,\n",
       "         0.00000000e+00,  0.00000000e+00,  0.00000000e+00,\n",
       "         0.00000000e+00, -5.79016363e-03, -9.05384592e-03,\n",
       "        -1.60054430e-02, -2.21197601e-02, -2.68459958e-02,\n",
       "        -3.18450632e-02, -4.37484087e-02, -4.72829474e-02,\n",
       "        -5.31388046e-02, -5.66228194e-02, -6.03383556e-02,\n",
       "        -5.62950014e-02, -5.13665378e-02, -4.26322798e-02,\n",
       "        -3.31710271e-02, -2.24628830e-02, -1.60690870e-02,\n",
       "        -1.14322028e-02, -9.00729450e-03, -5.77039393e-03,\n",
       "         0.00000000e+00,  0.00000000e+00,  0.00000000e+00,\n",
       "         0.00000000e+00]])"
      ]
     },
     "execution_count": 33,
     "metadata": {},
     "output_type": "execute_result"
    }
   ],
   "source": [
    "some_digit"
   ]
  },
  {
   "cell_type": "code",
   "execution_count": 34,
   "metadata": {},
   "outputs": [],
   "source": [
    "from sklearn.model_selection import cross_val_score"
   ]
  },
  {
   "cell_type": "code",
   "execution_count": 35,
   "metadata": {},
   "outputs": [
    {
     "data": {
      "text/plain": [
       "array([0.96785, 0.96705, 0.967  ])"
      ]
     },
     "execution_count": 35,
     "metadata": {},
     "output_type": "execute_result"
    }
   ],
   "source": [
    "cross_val_score(sgd_clf, X_train_scaled, y_train_5, cv=3, scoring=\"accuracy\")"
   ]
  },
  {
   "cell_type": "code",
   "execution_count": 36,
   "metadata": {},
   "outputs": [],
   "source": [
    "from sklearn.base import BaseEstimator\n",
    "class Never5Classifier(BaseEstimator):\n",
    "    def fit(self, X, y=None):\n",
    "        pass\n",
    "    def predict(self, X):\n",
    "        return np.zeros((len(X), 1), dtype=bool)"
   ]
  },
  {
   "cell_type": "code",
   "execution_count": 37,
   "metadata": {},
   "outputs": [
    {
     "data": {
      "text/plain": [
       "array([0.909  , 0.90715, 0.9128 ])"
      ]
     },
     "execution_count": 37,
     "metadata": {},
     "output_type": "execute_result"
    }
   ],
   "source": [
    "never_5_clf = Never5Classifier()\n",
    "cross_val_score(never_5_clf, X_train_scaled, y_train_5, cv=3, scoring=\"accuracy\")"
   ]
  },
  {
   "cell_type": "code",
   "execution_count": 38,
   "metadata": {},
   "outputs": [],
   "source": [
    "from sklearn.model_selection import cross_val_predict"
   ]
  },
  {
   "cell_type": "code",
   "execution_count": 39,
   "metadata": {},
   "outputs": [],
   "source": [
    "y_train_pred = cross_val_predict(sgd_clf, X_train_scaled, y_train_5, cv=3)"
   ]
  },
  {
   "cell_type": "code",
   "execution_count": 40,
   "metadata": {},
   "outputs": [],
   "source": [
    "from sklearn.metrics import confusion_matrix"
   ]
  },
  {
   "cell_type": "code",
   "execution_count": 41,
   "metadata": {},
   "outputs": [
    {
     "data": {
      "text/plain": [
       "array([[53998,   581],\n",
       "       [ 1381,  4040]])"
      ]
     },
     "execution_count": 41,
     "metadata": {},
     "output_type": "execute_result"
    }
   ],
   "source": [
    "confusion_matrix(y_train_5, y_train_pred)"
   ]
  },
  {
   "cell_type": "raw",
   "metadata": {},
   "source": [
    "(1, 1) : True-Negative,\n",
    "(1, 2) : False-Positive,\n",
    "(2, 1) : False-Negative,\n",
    "(2, 2) : True-Positive"
   ]
  },
  {
   "cell_type": "code",
   "execution_count": 42,
   "metadata": {},
   "outputs": [],
   "source": [
    "y_train_perfect_predictions = y_train_5"
   ]
  },
  {
   "cell_type": "code",
   "execution_count": 43,
   "metadata": {},
   "outputs": [
    {
     "data": {
      "text/plain": [
       "array([[54579,     0],\n",
       "       [    0,  5421]])"
      ]
     },
     "execution_count": 43,
     "metadata": {},
     "output_type": "execute_result"
    }
   ],
   "source": [
    "confusion_matrix(y_train_5, y_train_perfect_predictions)"
   ]
  },
  {
   "cell_type": "code",
   "execution_count": 44,
   "metadata": {},
   "outputs": [],
   "source": [
    "from sklearn.metrics import precision_score, recall_score"
   ]
  },
  {
   "cell_type": "markdown",
   "metadata": {},
   "source": [
    "#### 정밀도 vs. 재현율"
   ]
  },
  {
   "cell_type": "code",
   "execution_count": 45,
   "metadata": {},
   "outputs": [
    {
     "data": {
      "text/plain": [
       "0.8742696386063623"
      ]
     },
     "execution_count": 45,
     "metadata": {},
     "output_type": "execute_result"
    }
   ],
   "source": [
    "precision_score(y_train_5, y_train_pred)"
   ]
  },
  {
   "cell_type": "code",
   "execution_count": 46,
   "metadata": {},
   "outputs": [
    {
     "data": {
      "text/plain": [
       "0.7452499538830474"
      ]
     },
     "execution_count": 46,
     "metadata": {},
     "output_type": "execute_result"
    }
   ],
   "source": [
    "recall_score(y_train_5, y_train_pred)"
   ]
  },
  {
   "cell_type": "code",
   "execution_count": 47,
   "metadata": {},
   "outputs": [],
   "source": [
    "from sklearn.metrics import f1_score"
   ]
  },
  {
   "cell_type": "code",
   "execution_count": 48,
   "metadata": {},
   "outputs": [
    {
     "data": {
      "text/plain": [
       "0.8046205935072694"
      ]
     },
     "execution_count": 48,
     "metadata": {},
     "output_type": "execute_result"
    }
   ],
   "source": [
    "f1_score(y_train_5, y_train_pred)"
   ]
  },
  {
   "cell_type": "code",
   "execution_count": 49,
   "metadata": {},
   "outputs": [],
   "source": [
    "y_scores = sgd_clf.decision_function(some_digit)"
   ]
  },
  {
   "cell_type": "code",
   "execution_count": 50,
   "metadata": {},
   "outputs": [
    {
     "data": {
      "text/plain": [
       "array([-25.65293896])"
      ]
     },
     "execution_count": 50,
     "metadata": {},
     "output_type": "execute_result"
    }
   ],
   "source": [
    "y_scores"
   ]
  },
  {
   "cell_type": "code",
   "execution_count": 51,
   "metadata": {},
   "outputs": [],
   "source": [
    "y_scores = cross_val_predict(sgd_clf, X_train_scaled, y_train_5, cv=3,\n",
    "                             method=\"decision_function\")"
   ]
  },
  {
   "cell_type": "code",
   "execution_count": 52,
   "metadata": {},
   "outputs": [
    {
     "data": {
      "text/plain": [
       "array([-1352.3017308 , -4210.18282536, -2106.82326361, ...,\n",
       "       -1420.74510591, -1858.48504269, -1091.78067647])"
      ]
     },
     "execution_count": 52,
     "metadata": {},
     "output_type": "execute_result"
    }
   ],
   "source": [
    "y_scores"
   ]
  },
  {
   "cell_type": "code",
   "execution_count": 53,
   "metadata": {},
   "outputs": [],
   "source": [
    "from sklearn.metrics import precision_recall_curve"
   ]
  },
  {
   "cell_type": "code",
   "execution_count": 54,
   "metadata": {},
   "outputs": [],
   "source": [
    "precisions, recalls, thresholds = precision_recall_curve(\n",
    "    y_train_5, \n",
    "    y_scores)"
   ]
  },
  {
   "cell_type": "code",
   "execution_count": 55,
   "metadata": {},
   "outputs": [
    {
     "data": {
      "text/plain": [
       "((59315,), (59315,), (59314,))"
      ]
     },
     "execution_count": 55,
     "metadata": {},
     "output_type": "execute_result"
    }
   ],
   "source": [
    "precisions.shape, recalls.shape, thresholds.shape"
   ]
  },
  {
   "cell_type": "code",
   "execution_count": 56,
   "metadata": {},
   "outputs": [
    {
     "data": {
      "text/plain": [
       "array([-3120.56931017, -3119.98654558, -3118.80647085, ...,\n",
       "        1621.79728382,  1665.74642939,  1775.04204445])"
      ]
     },
     "execution_count": 56,
     "metadata": {},
     "output_type": "execute_result"
    }
   ],
   "source": [
    "thresholds"
   ]
  },
  {
   "cell_type": "code",
   "execution_count": 57,
   "metadata": {},
   "outputs": [],
   "source": [
    "def plot_precision_recall_vs_threshold(precisions, recalls, thresholds):\n",
    "    plt.plot(thresholds, precisions[:-1], \"b--\", label=\"Precision\", linewidth=2)\n",
    "    plt.plot(thresholds, recalls[:-1], \"g-\", label=\"Recall\", linewidth=2)\n",
    "    plt.xlabel(\"Threshold\", fontsize=16)\n",
    "    plt.legend(loc=\"upper left\", fontsize=16)\n",
    "    plt.ylim([0, 1])"
   ]
  },
  {
   "cell_type": "code",
   "execution_count": 58,
   "metadata": {},
   "outputs": [
    {
     "data": {
      "image/png": "[encoded data removed]",
      "text/plain": [
       "<matplotlib.figure.Figure at 0x7f98af336d68>"
      ]
     },
     "metadata": {},
     "output_type": "display_data"
    }
   ],
   "source": [
    "plt.figure(figsize=(8, 4))\n",
    "plot_precision_recall_vs_threshold(precisions, recalls, thresholds)\n",
    "plt.xlim([-4000, 4000])\n",
    "plt.show()"
   ]
  },
  {
   "cell_type": "markdown",
   "metadata": {},
   "source": [
    "#### ROC"
   ]
  },
  {
   "cell_type": "code",
   "execution_count": 59,
   "metadata": {},
   "outputs": [],
   "source": [
    "def plot_precision_vs_recall(precisions, recalls):\n",
    "    plt.plot(recalls, precisions, \"b-\", linewidth=2)\n",
    "    plt.xlabel(\"Recall\", fontsize=16)\n",
    "    plt.ylabel(\"Precision\", fontsize=16)\n",
    "    plt.axis([0, 1, 0, 1])"
   ]
  },
  {
   "cell_type": "code",
   "execution_count": 60,
   "metadata": {},
   "outputs": [
    {
     "data": {
      "text/plain": [
       "True"
      ]
     },
     "execution_count": 60,
     "metadata": {},
     "output_type": "execute_result"
    }
   ],
   "source": [
    "(y_train_pred == (y_scores > 0)).all()"
   ]
  },
  {
   "cell_type": "code",
   "execution_count": 61,
   "metadata": {},
   "outputs": [],
   "source": [
    "y_train_pred_90 = (y_scores > 700)"
   ]
  },
  {
   "cell_type": "code",
   "execution_count": 62,
   "metadata": {},
   "outputs": [
    {
     "data": {
      "text/plain": [
       "array([False, False, False, ..., False, False, False])"
      ]
     },
     "execution_count": 62,
     "metadata": {},
     "output_type": "execute_result"
    }
   ],
   "source": [
    "y_train_pred_90"
   ]
  },
  {
   "cell_type": "code",
   "execution_count": 63,
   "metadata": {},
   "outputs": [
    {
     "data": {
      "text/plain": [
       "0.9850427350427351"
      ]
     },
     "execution_count": 63,
     "metadata": {},
     "output_type": "execute_result"
    }
   ],
   "source": [
    "precision_score(y_train_5, y_train_pred_90)"
   ]
  },
  {
   "cell_type": "code",
   "execution_count": 64,
   "metadata": {},
   "outputs": [
    {
     "data": {
      "text/plain": [
       "0.08503966057922892"
      ]
     },
     "execution_count": 64,
     "metadata": {},
     "output_type": "execute_result"
    }
   ],
   "source": [
    "recall_score(y_train_5, y_train_pred_90)"
   ]
  },
  {
   "cell_type": "code",
   "execution_count": 65,
   "metadata": {},
   "outputs": [
    {
     "data": {
      "image/png": "[encoded data removed]",
      "text/plain": [
       "<matplotlib.figure.Figure at 0x7f98af336b70>"
      ]
     },
     "metadata": {},
     "output_type": "display_data"
    }
   ],
   "source": [
    "plt.figure(figsize=(8, 6))\n",
    "plot_precision_vs_recall(precisions, recalls)\n",
    "plt.show()"
   ]
  },
  {
   "cell_type": "code",
   "execution_count": 66,
   "metadata": {},
   "outputs": [],
   "source": [
    "from sklearn.metrics import roc_curve"
   ]
  },
  {
   "cell_type": "code",
   "execution_count": 67,
   "metadata": {},
   "outputs": [],
   "source": [
    "fpr, tpr, thresholds = roc_curve(y_train_5, y_scores)"
   ]
  },
  {
   "cell_type": "code",
   "execution_count": 68,
   "metadata": {},
   "outputs": [],
   "source": [
    "def plot_roc_curve(fpr, tpr, label=None):\n",
    "    plt.plot(fpr, tpr, linewidth=2, label=label)\n",
    "    plt.plot([0, 1], [0, 1], 'k--')\n",
    "    plt.axis([0, 1, 0, 1])\n",
    "    plt.xlabel('False Positive Rate', fontsize=16)\n",
    "    plt.ylabel('True Positive Rate', fontsize=16)"
   ]
  },
  {
   "cell_type": "code",
   "execution_count": 69,
   "metadata": {},
   "outputs": [
    {
     "data": {
      "image/png": "[encoded data removed]",
      "text/plain": [
       "<matplotlib.figure.Figure at 0x7f98af2adba8>"
      ]
     },
     "metadata": {},
     "output_type": "display_data"
    }
   ],
   "source": [
    "plt.figure(figsize=(8, 6))\n",
    "plot_roc_curve(fpr, tpr)\n",
    "plt.show()"
   ]
  },
  {
   "cell_type": "code",
   "execution_count": 70,
   "metadata": {},
   "outputs": [],
   "source": [
    "from sklearn.metrics import roc_auc_score"
   ]
  },
  {
   "cell_type": "code",
   "execution_count": 71,
   "metadata": {},
   "outputs": [
    {
     "data": {
      "text/plain": [
       "0.9724398487121284"
      ]
     },
     "execution_count": 71,
     "metadata": {},
     "output_type": "execute_result"
    }
   ],
   "source": [
    "roc_auc_score(y_train_5, y_scores)"
   ]
  },
  {
   "cell_type": "markdown",
   "metadata": {},
   "source": [
    "#### 랜덤포레스트"
   ]
  },
  {
   "cell_type": "code",
   "execution_count": 72,
   "metadata": {},
   "outputs": [],
   "source": [
    "from sklearn.ensemble import RandomForestClassifier"
   ]
  },
  {
   "cell_type": "code",
   "execution_count": 73,
   "metadata": {},
   "outputs": [],
   "source": [
    "forest_clf = RandomForestClassifier(n_estimators=10, random_state=42)\n",
    "y_probas_forest = cross_val_predict(forest_clf, X_train_scaled, y_train_5, cv=3,\n",
    "                                    method=\"predict_proba\")"
   ]
  },
  {
   "cell_type": "code",
   "execution_count": 74,
   "metadata": {},
   "outputs": [],
   "source": [
    "y_scores_forest = y_probas_forest[:, 1] # score = proba of positive class\n",
    "fpr_forest, tpr_forest, thresholds_forest = roc_curve(y_train_5,y_scores_forest)"
   ]
  },
  {
   "cell_type": "code",
   "execution_count": 75,
   "metadata": {
    "scrolled": false
   },
   "outputs": [
    {
     "data": {
      "image/png": "[encoded data removed]",
      "text/plain": [
       "<matplotlib.figure.Figure at 0x7f98af2a8278>"
      ]
     },
     "metadata": {},
     "output_type": "display_data"
    }
   ],
   "source": [
    "plt.figure(figsize=(8, 6))\n",
    "plt.plot(fpr, tpr, \"b:\", linewidth=2, label=\"SGD\")\n",
    "plot_roc_curve(fpr_forest, tpr_forest, \"Random Forest\")\n",
    "plt.legend(loc=\"lower right\", fontsize=16)\n",
    "plt.show()"
   ]
  },
  {
   "cell_type": "code",
   "execution_count": 76,
   "metadata": {},
   "outputs": [
    {
     "data": {
      "text/plain": [
       "0.9931331224717448"
      ]
     },
     "execution_count": 76,
     "metadata": {},
     "output_type": "execute_result"
    }
   ],
   "source": [
    "roc_auc_score(y_train_5, y_scores_forest)"
   ]
  },
  {
   "cell_type": "code",
   "execution_count": 77,
   "metadata": {},
   "outputs": [
    {
     "data": {
      "text/plain": [
       "0.9852973447443494"
      ]
     },
     "execution_count": 77,
     "metadata": {},
     "output_type": "execute_result"
    }
   ],
   "source": [
    "y_train_pred_forest = cross_val_predict(forest_clf, X_train, y_train_5, cv=3)\n",
    "precision_score(y_train_5, y_train_pred_forest)"
   ]
  },
  {
   "cell_type": "code",
   "execution_count": 78,
   "metadata": {},
   "outputs": [
    {
     "data": {
      "text/plain": [
       "0.8282604685482383"
      ]
     },
     "execution_count": 78,
     "metadata": {},
     "output_type": "execute_result"
    }
   ],
   "source": [
    "recall_score(y_train_5, y_train_pred_forest)"
   ]
  },
  {
   "cell_type": "code",
   "execution_count": null,
   "metadata": {},
   "outputs": [],
   "source": []
  },
  {
   "cell_type": "markdown",
   "metadata": {},
   "source": [
    "#### 다중분류"
   ]
  },
  {
   "cell_type": "code",
   "execution_count": 79,
   "metadata": {},
   "outputs": [
    {
     "data": {
      "text/plain": [
       "array([5.])"
      ]
     },
     "execution_count": 79,
     "metadata": {},
     "output_type": "execute_result"
    }
   ],
   "source": [
    "sgd_clf.fit(X_train, y_train)\n",
    "sgd_clf.predict(some_digit)"
   ]
  },
  {
   "cell_type": "code",
   "execution_count": 80,
   "metadata": {},
   "outputs": [],
   "source": [
    "some_digit_scores = sgd_clf.decision_function(some_digit)"
   ]
  },
  {
   "cell_type": "code",
   "execution_count": 81,
   "metadata": {},
   "outputs": [
    {
     "data": {
      "text/plain": [
       "array([[ 2531.05598498,   560.38753152,  -132.99500793,  3637.53408366,\n",
       "         -737.75921232,  6381.36084766, -5747.40463096,  1108.24293639,\n",
       "        -7467.2223228 , -5576.26280606]])"
      ]
     },
     "execution_count": 81,
     "metadata": {},
     "output_type": "execute_result"
    }
   ],
   "source": [
    "some_digit_scores"
   ]
  },
  {
   "cell_type": "code",
   "execution_count": 82,
   "metadata": {},
   "outputs": [
    {
     "data": {
      "text/plain": [
       "5"
      ]
     },
     "execution_count": 82,
     "metadata": {},
     "output_type": "execute_result"
    }
   ],
   "source": [
    "np.argmax(some_digit_scores)"
   ]
  },
  {
   "cell_type": "code",
   "execution_count": 83,
   "metadata": {},
   "outputs": [
    {
     "data": {
      "text/plain": [
       "array([0., 1., 2., 3., 4., 5., 6., 7., 8., 9.])"
      ]
     },
     "execution_count": 83,
     "metadata": {},
     "output_type": "execute_result"
    }
   ],
   "source": [
    "sgd_clf.classes_"
   ]
  },
  {
   "cell_type": "code",
   "execution_count": 84,
   "metadata": {},
   "outputs": [
    {
     "data": {
      "text/plain": [
       "5.0"
      ]
     },
     "execution_count": 84,
     "metadata": {},
     "output_type": "execute_result"
    }
   ],
   "source": [
    "sgd_clf.classes_[np.argmax(some_digit_scores)]"
   ]
  },
  {
   "cell_type": "code",
   "execution_count": 85,
   "metadata": {},
   "outputs": [],
   "source": [
    "from sklearn.multiclass import OneVsOneClassifier"
   ]
  },
  {
   "cell_type": "code",
   "execution_count": 86,
   "metadata": {},
   "outputs": [
    {
     "data": {
      "text/plain": [
       "array([5.])"
      ]
     },
     "execution_count": 86,
     "metadata": {},
     "output_type": "execute_result"
    }
   ],
   "source": [
    "ovo_clf = OneVsOneClassifier(SGDClassifier(max_iter=5, tol=-np.infty, random_state=42))\n",
    "ovo_clf.fit(X_train_scaled, y_train)\n",
    "ovo_clf.predict(some_digit)"
   ]
  },
  {
   "cell_type": "code",
   "execution_count": 87,
   "metadata": {},
   "outputs": [
    {
     "data": {
      "text/plain": [
       "5"
      ]
     },
     "execution_count": 87,
     "metadata": {},
     "output_type": "execute_result"
    }
   ],
   "source": [
    "np.argmax(ovo_clf.decision_function(some_digit))"
   ]
  },
  {
   "cell_type": "code",
   "execution_count": 88,
   "metadata": {},
   "outputs": [
    {
     "data": {
      "text/plain": [
       "45"
      ]
     },
     "execution_count": 88,
     "metadata": {},
     "output_type": "execute_result"
    }
   ],
   "source": [
    "len(ovo_clf.estimators_)"
   ]
  },
  {
   "cell_type": "markdown",
   "metadata": {},
   "source": [
    "#### 랜덤포레스트 분류기는 직접 샘플을 다중 클래스로 분류, 별도의 OvO, OvA 적용 필요 없음"
   ]
  },
  {
   "cell_type": "code",
   "execution_count": 89,
   "metadata": {},
   "outputs": [
    {
     "data": {
      "text/plain": [
       "array([5.])"
      ]
     },
     "execution_count": 89,
     "metadata": {},
     "output_type": "execute_result"
    }
   ],
   "source": [
    "forest_clf.fit(X_train_scaled, y_train)\n",
    "forest_clf.predict(some_digit)"
   ]
  },
  {
   "cell_type": "markdown",
   "metadata": {},
   "source": [
    "#### 각 샘플에 부여한 클래스별 확률"
   ]
  },
  {
   "cell_type": "code",
   "execution_count": 90,
   "metadata": {},
   "outputs": [
    {
     "data": {
      "text/plain": [
       "array([[0.1, 0. , 0. , 0.1, 0. , 0.8, 0. , 0. , 0. , 0. ]])"
      ]
     },
     "execution_count": 90,
     "metadata": {},
     "output_type": "execute_result"
    }
   ],
   "source": [
    "forest_clf.predict_proba(some_digit)"
   ]
  },
  {
   "cell_type": "code",
   "execution_count": 91,
   "metadata": {},
   "outputs": [
    {
     "data": {
      "text/plain": [
       "[0.0, 0.0, 0.0, 0.0, 0.0, 0.0, 0.0, 0.1, 0.1, 0.8]"
      ]
     },
     "execution_count": 91,
     "metadata": {},
     "output_type": "execute_result"
    }
   ],
   "source": [
    "sorted(forest_clf.predict_proba(some_digit)[0])"
   ]
  },
  {
   "cell_type": "code",
   "execution_count": 92,
   "metadata": {},
   "outputs": [
    {
     "data": {
      "text/plain": [
       "array([0.91071786, 0.90854543, 0.90778617])"
      ]
     },
     "execution_count": 92,
     "metadata": {},
     "output_type": "execute_result"
    }
   ],
   "source": [
    "cross_val_score(sgd_clf, X_train_scaled, y_train, cv=3, scoring=\"accuracy\")"
   ]
  },
  {
   "cell_type": "code",
   "execution_count": 93,
   "metadata": {},
   "outputs": [],
   "source": [
    "y_train_pred = cross_val_predict(sgd_clf, X_train_scaled, y_train, cv=3)\n",
    "conf_mx = confusion_matrix(y_train, y_train_pred)"
   ]
  },
  {
   "cell_type": "code",
   "execution_count": 94,
   "metadata": {},
   "outputs": [
    {
     "data": {
      "text/plain": [
       "(array([[5738,    2,   24,   10,   11,   45,   40,   11,   39,    3],\n",
       "        [   2, 6485,   44,   27,    5,   37,    6,    8,  116,   12],\n",
       "        [  56,   39, 5334,   90,   83,   24,   98,   60,  159,   15],\n",
       "        [  56,   43,  139, 5330,    1,  228,   33,   60,  143,   98],\n",
       "        [  17,   27,   32,    9, 5350,    7,   57,   35,   77,  231],\n",
       "        [  72,   47,   34,  187,   68, 4564,  118,   32,  199,  100],\n",
       "        [  38,   30,   39,    2,   39,   82, 5632,    9,   46,    1],\n",
       "        [  26,   20,   68,   29,   49,   12,    5, 5786,   16,  254],\n",
       "        [  57,  165,   76,  145,   15,  153,   59,   25, 5012,  144],\n",
       "        [  43,   31,   26,   84,  153,   24,    2,  197,   79, 5310]]),\n",
       " (10, 10))"
      ]
     },
     "execution_count": 94,
     "metadata": {},
     "output_type": "execute_result"
    }
   ],
   "source": [
    "conf_mx, conf_mx.shape"
   ]
  },
  {
   "cell_type": "markdown",
   "metadata": {},
   "source": [
    "#### 오차행렬 가시화"
   ]
  },
  {
   "cell_type": "code",
   "execution_count": 95,
   "metadata": {},
   "outputs": [
    {
     "data": {
      "text/plain": [
       "<matplotlib.image.AxesImage at 0x7f98ea07ef60>"
      ]
     },
     "execution_count": 95,
     "metadata": {},
     "output_type": "execute_result"
    },
    {
     "data": {
      "image/png": "[encoded data removed]",
      "text/plain": [
       "<matplotlib.figure.Figure at 0x7f98af2a86d8>"
      ]
     },
     "metadata": {},
     "output_type": "display_data"
    }
   ],
   "source": [
    "plt.matshow(conf_mx, cmap=plt.cm.gray)"
   ]
  },
  {
   "cell_type": "code",
   "execution_count": 96,
   "metadata": {},
   "outputs": [],
   "source": [
    "row_sums = conf_mx.sum(axis=1, keepdims=True)"
   ]
  },
  {
   "cell_type": "code",
   "execution_count": 97,
   "metadata": {},
   "outputs": [
    {
     "data": {
      "text/plain": [
       "(array([[5923],\n",
       "        [6742],\n",
       "        [5958],\n",
       "        [6131],\n",
       "        [5842],\n",
       "        [5421],\n",
       "        [5918],\n",
       "        [6265],\n",
       "        [5851],\n",
       "        [5949]]), (10, 1))"
      ]
     },
     "execution_count": 97,
     "metadata": {},
     "output_type": "execute_result"
    }
   ],
   "source": [
    "row_sums, row_sums.shape"
   ]
  },
  {
   "cell_type": "code",
   "execution_count": 98,
   "metadata": {},
   "outputs": [],
   "source": [
    "col_sums = conf_mx.sum(axis=0, keepdims=True)"
   ]
  },
  {
   "cell_type": "code",
   "execution_count": 99,
   "metadata": {},
   "outputs": [
    {
     "data": {
      "text/plain": [
       "(array([[6105, 6889, 5816, 5913, 5774, 5176, 6050, 6223, 5886, 6168]]),\n",
       " (1, 10))"
      ]
     },
     "execution_count": 99,
     "metadata": {},
     "output_type": "execute_result"
    }
   ],
   "source": [
    "col_sums, col_sums.shape"
   ]
  },
  {
   "cell_type": "code",
   "execution_count": 100,
   "metadata": {},
   "outputs": [],
   "source": [
    "norm_conf_mx = conf_mx / row_sums"
   ]
  },
  {
   "cell_type": "code",
   "execution_count": 101,
   "metadata": {},
   "outputs": [
    {
     "data": {
      "text/plain": [
       "array([[9.68765828e-01, 3.37666723e-04, 4.05200068e-03, 1.68833361e-03,\n",
       "        1.85716698e-03, 7.59750127e-03, 6.75333446e-03, 1.85716698e-03,\n",
       "        6.58450110e-03, 5.06500084e-04],\n",
       "       [2.96647879e-04, 9.61880748e-01, 6.52625334e-03, 4.00474637e-03,\n",
       "        7.41619697e-04, 5.48798576e-03, 8.89943637e-04, 1.18659152e-03,\n",
       "        1.72055770e-02, 1.77988727e-03],\n",
       "       [9.39912722e-03, 6.54582075e-03, 8.95266868e-01, 1.51057402e-02,\n",
       "        1.39308493e-02, 4.02819738e-03, 1.64484726e-02, 1.00704935e-02,\n",
       "        2.66868077e-02, 2.51762336e-03],\n",
       "       [9.13390964e-03, 7.01353776e-03, 2.26716686e-02, 8.69352471e-01,\n",
       "        1.63105529e-04, 3.71880607e-02, 5.38248247e-03, 9.78633176e-03,\n",
       "        2.33240907e-02, 1.59843419e-02],\n",
       "       [2.90996234e-03, 4.62170490e-03, 5.47757617e-03, 1.54056830e-03,\n",
       "        9.15782266e-01, 1.19821979e-03, 9.75693256e-03, 5.99109894e-03,\n",
       "        1.31804177e-02, 3.95412530e-02],\n",
       "       [1.32816823e-02, 8.66998709e-03, 6.27190555e-03, 3.44954805e-02,\n",
       "        1.25438111e-02, 8.41911087e-01, 2.17672016e-02, 5.90296993e-03,\n",
       "        3.67090943e-02, 1.84467810e-02],\n",
       "       [6.42108821e-03, 5.06928016e-03, 6.59006421e-03, 3.37952011e-04,\n",
       "        6.59006421e-03, 1.38560324e-02, 9.51672862e-01, 1.52078405e-03,\n",
       "        7.77289625e-03, 1.68976005e-04],\n",
       "       [4.15003990e-03, 3.19233839e-03, 1.08539505e-02, 4.62889066e-03,\n",
       "        7.82122905e-03, 1.91540303e-03, 7.98084597e-04, 9.23543496e-01,\n",
       "        2.55387071e-03, 4.05426975e-02],\n",
       "       [9.74192446e-03, 2.82003076e-02, 1.29892326e-02, 2.47820885e-02,\n",
       "        2.56366433e-03, 2.61493762e-02, 1.00837464e-02, 4.27277388e-03,\n",
       "        8.56605708e-01, 2.46111776e-02],\n",
       "       [7.22810556e-03, 5.21095983e-03, 4.37048243e-03, 1.41200202e-02,\n",
       "        2.57186082e-02, 4.03429148e-03, 3.36190956e-04, 3.31148092e-02,\n",
       "        1.32795428e-02, 8.92586989e-01]])"
      ]
     },
     "execution_count": 101,
     "metadata": {},
     "output_type": "execute_result"
    }
   ],
   "source": [
    "norm_conf_mx"
   ]
  },
  {
   "cell_type": "code",
   "execution_count": 102,
   "metadata": {},
   "outputs": [],
   "source": [
    "np.fill_diagonal(norm_conf_mx, 0)"
   ]
  },
  {
   "cell_type": "code",
   "execution_count": 103,
   "metadata": {},
   "outputs": [
    {
     "data": {
      "text/plain": [
       "array([[0.        , 0.00033767, 0.004052  , 0.00168833, 0.00185717,\n",
       "        0.0075975 , 0.00675333, 0.00185717, 0.0065845 , 0.0005065 ],\n",
       "       [0.00029665, 0.        , 0.00652625, 0.00400475, 0.00074162,\n",
       "        0.00548799, 0.00088994, 0.00118659, 0.01720558, 0.00177989],\n",
       "       [0.00939913, 0.00654582, 0.        , 0.01510574, 0.01393085,\n",
       "        0.0040282 , 0.01644847, 0.01007049, 0.02668681, 0.00251762],\n",
       "       [0.00913391, 0.00701354, 0.02267167, 0.        , 0.00016311,\n",
       "        0.03718806, 0.00538248, 0.00978633, 0.02332409, 0.01598434],\n",
       "       [0.00290996, 0.0046217 , 0.00547758, 0.00154057, 0.        ,\n",
       "        0.00119822, 0.00975693, 0.0059911 , 0.01318042, 0.03954125],\n",
       "       [0.01328168, 0.00866999, 0.00627191, 0.03449548, 0.01254381,\n",
       "        0.        , 0.0217672 , 0.00590297, 0.03670909, 0.01844678],\n",
       "       [0.00642109, 0.00506928, 0.00659006, 0.00033795, 0.00659006,\n",
       "        0.01385603, 0.        , 0.00152078, 0.0077729 , 0.00016898],\n",
       "       [0.00415004, 0.00319234, 0.01085395, 0.00462889, 0.00782123,\n",
       "        0.0019154 , 0.00079808, 0.        , 0.00255387, 0.0405427 ],\n",
       "       [0.00974192, 0.02820031, 0.01298923, 0.02478209, 0.00256366,\n",
       "        0.02614938, 0.01008375, 0.00427277, 0.        , 0.02461118],\n",
       "       [0.00722811, 0.00521096, 0.00437048, 0.01412002, 0.02571861,\n",
       "        0.00403429, 0.00033619, 0.03311481, 0.01327954, 0.        ]])"
      ]
     },
     "execution_count": 103,
     "metadata": {},
     "output_type": "execute_result"
    }
   ],
   "source": [
    "norm_conf_mx"
   ]
  },
  {
   "cell_type": "code",
   "execution_count": 104,
   "metadata": {},
   "outputs": [
    {
     "data": {
      "text/plain": [
       "<matplotlib.image.AxesImage at 0x7f98af34e5f8>"
      ]
     },
     "execution_count": 104,
     "metadata": {},
     "output_type": "execute_result"
    },
    {
     "data": {
      "image/png": "[encoded data removed]",
      "text/plain": [
       "<matplotlib.figure.Figure at 0x7f98ea0bb208>"
      ]
     },
     "metadata": {},
     "output_type": "display_data"
    }
   ],
   "source": [
    "plt.matshow(norm_conf_mx, cmap=plt.cm.gray)"
   ]
  },
  {
   "cell_type": "markdown",
   "metadata": {},
   "source": [
    "#### 행은 실제 클래스, 열은 예측 클래스"
   ]
  },
  {
   "cell_type": "markdown",
   "metadata": {},
   "source": [
    "#### 다중 레이블 분류"
   ]
  },
  {
   "cell_type": "code",
   "execution_count": 105,
   "metadata": {},
   "outputs": [],
   "source": [
    "from sklearn.neighbors import KNeighborsClassifier"
   ]
  },
  {
   "cell_type": "code",
   "execution_count": 106,
   "metadata": {},
   "outputs": [],
   "source": [
    "y_train_large = (y_train >= 7)\n",
    "y_train_odd = (y_train % 2 == 1)\n",
    "y_multilabel = np.c_[y_train_large, y_train_odd]"
   ]
  },
  {
   "cell_type": "code",
   "execution_count": 107,
   "metadata": {},
   "outputs": [
    {
     "data": {
      "text/plain": [
       "KNeighborsClassifier(algorithm='auto', leaf_size=30, metric='minkowski',\n",
       "           metric_params=None, n_jobs=1, n_neighbors=5, p=2,\n",
       "           weights='uniform')"
      ]
     },
     "execution_count": 107,
     "metadata": {},
     "output_type": "execute_result"
    }
   ],
   "source": [
    "knn_clf = KNeighborsClassifier()\n",
    "knn_clf.fit(X_train_scaled, y_multilabel)"
   ]
  },
  {
   "cell_type": "code",
   "execution_count": 108,
   "metadata": {},
   "outputs": [
    {
     "data": {
      "text/plain": [
       "array([[False,  True]])"
      ]
     },
     "execution_count": 108,
     "metadata": {},
     "output_type": "execute_result"
    }
   ],
   "source": [
    "knn_clf.predict(some_digit)"
   ]
  },
  {
   "cell_type": "code",
   "execution_count": 109,
   "metadata": {},
   "outputs": [],
   "source": [
    "# y_train_knn_pred = cross_val_predict(knn_clf, X_train_scaled, y_multilabel, cv=3)\n",
    "# f1_score(y_multilabel, y_train_knn_pred, average=\"macro\")"
   ]
  },
  {
   "cell_type": "markdown",
   "metadata": {},
   "source": [
    "#### 다중 출력 분류"
   ]
  },
  {
   "cell_type": "code",
   "execution_count": 110,
   "metadata": {},
   "outputs": [],
   "source": [
    "noise = np.random.randint(0, 100, (len(X_train), 784))"
   ]
  },
  {
   "cell_type": "code",
   "execution_count": 111,
   "metadata": {},
   "outputs": [
    {
     "data": {
      "text/plain": [
       "(array([[96, 98, 50, ..., 93,  4,  1],\n",
       "        [29, 98,  9, ..., 27, 49, 15],\n",
       "        [40,  8,  1, ..., 94, 74, 68],\n",
       "        ...,\n",
       "        [60, 38, 72, ..., 40, 78, 99],\n",
       "        [72, 92, 59, ..., 42, 89, 28],\n",
       "        [79, 35, 95, ..., 15, 58, 99]]), (60000, 784))"
      ]
     },
     "execution_count": 111,
     "metadata": {},
     "output_type": "execute_result"
    }
   ],
   "source": [
    "noise, noise.shape"
   ]
  },
  {
   "cell_type": "code",
   "execution_count": 112,
   "metadata": {},
   "outputs": [],
   "source": [
    "X_train_mod = X_train + noise"
   ]
  },
  {
   "cell_type": "code",
   "execution_count": 113,
   "metadata": {},
   "outputs": [],
   "source": [
    "noise = np.random.randint(0, 100, (len(X_test), 784))"
   ]
  },
  {
   "cell_type": "code",
   "execution_count": 114,
   "metadata": {
    "scrolled": true
   },
   "outputs": [
    {
     "data": {
      "text/plain": [
       "(array([[ 1, 33, 56, ..., 94,  5, 20],\n",
       "        [12, 43, 26, ..., 74, 72, 67],\n",
       "        [42, 93, 52, ..., 30, 81, 10],\n",
       "        ...,\n",
       "        [20,  7, 30, ..., 94, 20, 98],\n",
       "        [76, 35, 72, ...,  9, 22, 56],\n",
       "        [50, 23, 15, ..., 45,  5, 17]]), (10000, 784))"
      ]
     },
     "execution_count": 114,
     "metadata": {},
     "output_type": "execute_result"
    }
   ],
   "source": [
    "noise, noise.shape"
   ]
  },
  {
   "cell_type": "code",
   "execution_count": 115,
   "metadata": {},
   "outputs": [],
   "source": [
    "X_test_mod = X_test + noise"
   ]
  },
  {
   "cell_type": "code",
   "execution_count": 116,
   "metadata": {},
   "outputs": [],
   "source": [
    "y_train_mod = X_train\n",
    "y_test_mod = X_test"
   ]
  },
  {
   "cell_type": "code",
   "execution_count": 123,
   "metadata": {
    "scrolled": true
   },
   "outputs": [
    {
     "data": {
      "image/png": "[encoded data removed]",
      "text/plain": [
       "<matplotlib.figure.Figure at 0x7f98e878c7b8>"
      ]
     },
     "metadata": {},
     "output_type": "display_data"
    }
   ],
   "source": [
    "plot_digit(X_test_mod[0])"
   ]
  },
  {
   "cell_type": "code",
   "execution_count": 120,
   "metadata": {},
   "outputs": [
    {
     "data": {
      "image/png": "[encoded data removed]",
      "text/plain": [
       "<matplotlib.figure.Figure at 0x7f98af223a20>"
      ]
     },
     "metadata": {},
     "output_type": "display_data"
    }
   ],
   "source": [
    "knn_clf.fit(X_train_mod, y_train_mod)\n",
    "clean_digit = knn_clf.predict([X_test_mod[0]])\n",
    "plot_digit(clean_digit)"
   ]
  },
  {
   "cell_type": "code",
   "execution_count": null,
   "metadata": {},
   "outputs": [],
   "source": []
  }
 ],
 "metadata": {
  "kernelspec": {
   "display_name": "Python 3",
   "language": "python",
   "name": "python3"
  },
  "language_info": {
   "codemirror_mode": {
    "name": "ipython",
    "version": 3
   },
   "file_extension": ".py",
   "mimetype": "text/x-python",
   "name": "python",
   "nbconvert_exporter": "python",
   "pygments_lexer": "ipython3",
   "version": "3.5.5"
  }
 },
 "nbformat": 4,
 "nbformat_minor": 2
}
